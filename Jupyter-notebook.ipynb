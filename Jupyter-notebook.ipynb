{
 "cells": [
  {
   "cell_type": "code",
   "execution_count": 193,
   "metadata": {},
   "outputs": [],
   "source": [
    "from selenium import webdriver\n",
    "from selenium.webdriver.common.by import By\n",
    "from selenium.webdriver.common.keys import Keys\n",
    "import time \n",
    "import csv"
   ]
  },
  {
   "cell_type": "code",
   "execution_count": 122,
   "metadata": {},
   "outputs": [],
   "source": [
    "# with open('clinical_scraping.csv', 'w') as file:\n",
    "#     file.write('Clinical Trials\\n')\n",
    "#     file.write('No. ; Status ; Title ; \\n')\n",
    "\n",
    "# driver = webdriver.Chrome('/user/local/bin/chromedriver')\n",
    "# driver.get('https://clinicaltrials.gov/ct2/search')\n",
    "# driver.maximize_window()\n",
    "# time.sleep(1)\n",
    "\n",
    "#searching\n",
    "# search = driver.find_element(\n",
    "#     By.XPATH, '//input[@id=\"basic-search-query\"]')\n",
    "# search.send_keys(\"cancer\")\n",
    "# search.send_keys(Keys.RETURN)\n",
    "\n",
    "#search for completed clinical trials\n",
    "# completed = driver.find_element(By.XPATH, \"//input[@id='completedCB']\")\n",
    "# completed.click()\n",
    "# apply = driver.find_element(\n",
    "#     By.XPATH, '//input[@class=\"ct-primaryButton sr-applyFacet\"]')\n",
    "# apply.click()\n",
    "\n",
    "#finding numbers\n",
    "# titles = driver.find_elements(\n",
    "#     By.XPATH, '//div[@id=\"theDataTable_wrapper\"]//tbody//tr//td//a[@title]')\n",
    "# for title in titles: \n",
    "#     title.click()\n",
    "    \n",
    "# with open('clinical_scraping.csv', 'a') as file:\n",
    "#     for i in range(len(numbers)):\n",
    "#         file.write(numbers[i].text + \";\" + status[i].text + \";\" + titles[i].text + \";\" + \"\\n\")\n"
   ]
  },
  {
   "cell_type": "code",
   "execution_count": 123,
   "metadata": {},
   "outputs": [],
   "source": [
    "# driver = webdriver.Chrome('/user/local/bin/chromedriver')\n",
    "# driver.get('https://clinicaltrials.gov/ct2/about-site/crawling')\n",
    "# driver.maximize_window()\n",
    "# time.sleep(1)\n",
    "\n",
    "# codeNumbers = driver.find_elements(\n",
    "#     By.XPATH, '//table[@class=\"ct-layout_table ct-sans-serif link_table\"]//tbody//tr[@valign=\"top\"]//td//a')\n",
    "# for code in codeNumbers:\n",
    "# # for code in codeNumbers:\n",
    "#     code.click()\n",
    "#     innercode = driver.find_element(\n",
    "#         By.XPATH, '//table[@class=\"ct-layout_table link_table\"]//tbody//tr//td//a')\n",
    "#     innercode.click()\n",
    "\n",
    "#     #title \n",
    "#     title = driver.find_element(By.XPATH, '//div[@id=\"main-content\"]//div/h1')\n",
    "#     print(title.text)\n",
    "#     #identifier\n",
    "#     identifier = driver.find_element(\n",
    "#         By.XPATH, '//div[@class=\"w3-col m5\"]//tbody//tr//td')\n",
    "#     print(identifier.text)\n",
    "#     #elements that are not recruiting\n",
    "#     notRecruiting = driver.find_elements(\n",
    "#         By.XPATH, '//div[@class=\"w3-col m5\"]//tbody//tr//td//div[@class=\"tr-status tr-not-recruiting-colors\"]')\n",
    "#     for item in notRecruiting:\n",
    "#         print(item.text)\n",
    "\n"
   ]
  },
  {
   "cell_type": "code",
   "execution_count": 282,
   "metadata": {},
   "outputs": [
    {
     "name": "stderr",
     "output_type": "stream",
     "text": [
      "/var/folders/60/pzmw9df55zx8sgt6qjtlw3pr0000gn/T/ipykernel_41992/2271475307.py:7: DeprecationWarning: executable_path has been deprecated, please pass in a Service object\n",
      "  driver = webdriver.Chrome('/user/local/bin/chromedriver')\n"
     ]
    }
   ],
   "source": [
    "#Initialise .csv\n",
    "with open('clinical_scraping.csv', 'w', newline=\"\") as file:\n",
    "    writer = csv.writer(file)\n",
    "    writer.writerow([\"SNo\", \"Title\", \"Description\"])\n",
    "\n",
    "#Code to get data.\n",
    "driver = webdriver.Chrome('/user/local/bin/chromedriver')\n",
    "driver.get('https://clinicaltrials.gov/')\n",
    "driver.maximize_window()\n",
    "time.sleep(1)\n",
    "\n",
    "conditionInput = driver.find_element(\n",
    "    By.ID,\"home-search-condition-query\")\n",
    "conditionInput.send_keys(\"cancer\")\n",
    "time.sleep(1)\n",
    "\n",
    "countryInput = driver.find_element(\n",
    "    By.ID, \"Country\")\n",
    "countryInput.send_keys(\"Singapore\")\n",
    "countryInput.send_keys(Keys.RETURN)\n",
    "time.sleep(1)\n",
    "\n",
    "completedInput = driver.find_element(By.XPATH, '//input[@id=\"completedCB\"]')\n",
    "completedInput.click()\n",
    "time.sleep(1)\n",
    "\n",
    "acceptInput = driver.find_element(By.XPATH, '//input[@title=\"Apply filter changes\"]')\n",
    "acceptInput.click()\n",
    "\n",
    "findingHundred = driver.find_element(\n",
    "    By.XPATH, '//select[@name=\"theDataTable_length\"]//option[@value=\"100\"]')\n",
    "findingHundred.click()"
   ]
  },
  {
   "cell_type": "code",
   "execution_count": 280,
   "metadata": {},
   "outputs": [],
   "source": [
    "#Code to save data into csv file\n",
    "elements = driver.find_elements(\n",
    "    By.XPATH, '//table[@id=\"theDataTable\"]//tbody//tr')\n",
    "\n",
    "with open('clinical_scraping.csv', 'a', newline=\"\") as file:\n",
    "    writer = csv.writer(file)\n",
    "    for i in range(len(elements)):\n",
    "        title = \"\"\n",
    "        description = \"\"\n",
    "        sNo = elements[i].find_element(\n",
    "            By.XPATH, './/td[@class=\" dt-body-right\"]').text\n",
    "\n",
    "        titles = elements[i].find_elements(By.XPATH, './/td//a[@title]')\n",
    "        for tit in titles:\n",
    "          title += tit.text + \"| \"\n",
    "\n",
    "        descriptions = elements[i].find_elements(By.XPATH, './/td//ul//li')\n",
    "        for desc in descriptions:\n",
    "          description += desc.text + \" | \"\n",
    "\n",
    "        writer.writerow([sNo, title, description])\n"
   ]
  }
 ],
 "metadata": {
  "kernelspec": {
   "display_name": "Python 3.9.10 64-bit",
   "language": "python",
   "name": "python3"
  },
  "language_info": {
   "codemirror_mode": {
    "name": "ipython",
    "version": 3
   },
   "file_extension": ".py",
   "mimetype": "text/x-python",
   "name": "python",
   "nbconvert_exporter": "python",
   "pygments_lexer": "ipython3",
   "version": "3.9.10"
  },
  "orig_nbformat": 4,
  "vscode": {
   "interpreter": {
    "hash": "b0fa6594d8f4cbf19f97940f81e996739fb7646882a419484c72d19e05852a7e"
   }
  }
 },
 "nbformat": 4,
 "nbformat_minor": 2
}
